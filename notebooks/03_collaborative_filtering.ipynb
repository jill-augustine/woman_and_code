{
 "cells": [
  {
   "cell_type": "code",
   "execution_count": null,
   "id": "81e8b9d8-b469-40ec-9ae1-85f490f3eaa6",
   "metadata": {},
   "outputs": [],
   "source": [
    "%load_ext autoreload\n",
    "%autoreload 2"
   ]
  },
  {
   "cell_type": "code",
   "execution_count": null,
   "id": "dc0746ed-b0c2-4c74-8dd7-3819db6509ed",
   "metadata": {},
   "outputs": [],
   "source": [
    "import json\n",
    "from pathlib import Path\n",
    "import pandas as pd\n",
    "import numpy as np\n",
    "import tarfile\n",
    "import io\n",
    "import re\n",
    "import subprocess as sp\n",
    "\n",
    "from typing import Dict, List, Tuple, Union, Optional\n",
    "\n",
    "from loguru import logger\n"
   ]
  },
  {
   "cell_type": "code",
   "execution_count": null,
   "id": "2539a206-0c43-4294-abad-4c01b6acb653",
   "metadata": {},
   "outputs": [],
   "source": [
    "import pandas as pd\n",
    "import numpy as np\n",
    "\n",
    "import waac\n",
    "import waac.config as config\n",
    "from sklearn.decomposition import NMF"
   ]
  },
  {
   "cell_type": "code",
   "execution_count": null,
   "id": "5c6f3794-fa6f-4868-9f2f-20ce7fca9b76",
   "metadata": {},
   "outputs": [],
   "source": [
    "RANDOM_SEED = 6545"
   ]
  },
  {
   "cell_type": "code",
   "execution_count": null,
   "id": "eb985b35-b4de-418e-b3b4-d70121592fc3",
   "metadata": {},
   "outputs": [],
   "source": [
    "default_rng = np.random.default_rng(seed=RANDOM_SEED)"
   ]
  },
  {
   "cell_type": "code",
   "execution_count": null,
   "id": "7b3a6fd1-8345-4acc-abe8-89b2b5e5458d",
   "metadata": {},
   "outputs": [],
   "source": [
    "DATA_DIR = config.DATA_DIR"
   ]
  },
  {
   "cell_type": "code",
   "execution_count": null,
   "id": "87a49855-4739-4493-b575-f8fe4f40b951",
   "metadata": {},
   "outputs": [],
   "source": [
    "fp = DATA_DIR / \"intermediate\" / \"netflix_to_imdb.csv\"\n",
    "\n",
    "id_mapping = pd.read_csv(fp).dropna(subset=\"tconst\")"
   ]
  },
  {
   "cell_type": "code",
   "execution_count": null,
   "id": "f392bd37-ef6b-459d-9ab0-218834de921c",
   "metadata": {},
   "outputs": [],
   "source": [
    "id_mapping"
   ]
  },
  {
   "cell_type": "code",
   "execution_count": null,
   "id": "3c8f94c0-0295-4af8-ba08-0fbc924a8a3d",
   "metadata": {},
   "outputs": [],
   "source": [
    "n = 10\n",
    "downsample_id_mapping = id_mapping.sample(n, random_state=RANDOM_SEED)"
   ]
  },
  {
   "cell_type": "code",
   "execution_count": null,
   "id": "2db28c61-afd5-4db1-9855-e7decd9ec032",
   "metadata": {},
   "outputs": [],
   "source": [
    "s = downsample_id_mapping.movie_ID.iloc[0]\n",
    "str(s).zfill(7)"
   ]
  },
  {
   "cell_type": "code",
   "execution_count": null,
   "id": "6beaf69d-74c7-4e99-b164-1127fd7f4c39",
   "metadata": {
    "scrolled": true
   },
   "outputs": [],
   "source": [
    "for movie_id in downsample_id_mapping.movie_ID:\n",
    "    training_fp = DATA_DIR / \"download\" / \"training_set\" / f\"mv_{str(movie_id).zfill(7)}.txt\"\n",
    "    print(training_fp)\n",
    "    print(training_fp.exists())\n",
    "    "
   ]
  },
  {
   "cell_type": "code",
   "execution_count": null,
   "id": "1778ccab-5d16-443e-ab8a-97fa3965fe8f",
   "metadata": {},
   "outputs": [],
   "source": [
    "training_tar_fp = DATA_DIR / \"download\" / \"training_set.tar\"\n",
    "\n",
    "with tarfile.open(training_tar_fp) as tf:\n",
    "    names = tf.getnames()\n",
    "    # \"training_set/mv_1234567.txt\" ...\n",
    "print(names)"
   ]
  },
  {
   "cell_type": "code",
   "execution_count": null,
   "id": "ad9980ac-314a-456d-8789-9f5130b4a78c",
   "metadata": {},
   "outputs": [],
   "source": [
    "training_tar_fp = DATA_DIR / \"download\" / \"training_set.tar\"\n",
    "\n",
    "with tarfile.open(training_tar_fp) as tf:\n",
    "    for movie_id in downsample_id_mapping.movie_ID:\n",
    "        member = f\"training_set/mv_{str(movie_id).zfill(7)}.txt\"\n",
    "        print(f\"{member=}\")\n",
    "        x = tf.extractfile(member)\n",
    "        print(x)\n",
    "        print(type(x))\n",
    "        # read header row\n",
    "        y0 = next(x)\n",
    "        # read the rest\n",
    "        d = pd.read_csv(x, encoding=\"utf-8\", header=None, names=config.raw_data_column_names[\"training_set\"][\"movie_ID\"])\n",
    "        # y = [_ for _ in x]\n",
    "        # contents = x.read().decode(\"utf-8\")\n",
    "        break\n",
    "\n",
    "    "
   ]
  },
  {
   "cell_type": "code",
   "execution_count": null,
   "id": "1541ab7e-c991-4757-8268-1399b9462e4a",
   "metadata": {
    "scrolled": true
   },
   "outputs": [],
   "source": [
    "d\n",
    "\n",
    "# todo:\n",
    "# add a column called movieID, spread the df so customer is index, movieID is columns, values = rating. (date is removed)\n",
    "# maybe have to drop duplicates on [customer_ID,movieID] first incase someone rated the same movie twice\n",
    "\n",
    "# This is the input for NMF"
   ]
  },
  {
   "cell_type": "code",
   "execution_count": null,
   "id": "52c2998f-b242-4134-9f2e-98bb79331719",
   "metadata": {},
   "outputs": [],
   "source": [
    "a = np.array([4,5,5,np.NaN, 5,5, np.NaN, np.NaN, np.NaN]].reshape(3,3)\n",
    "a"
   ]
  },
  {
   "cell_type": "code",
   "execution_count": null,
   "id": "a3376133-0e89-4c94-bd8b-d682c6a11d07",
   "metadata": {},
   "outputs": [],
   "source": []
  },
  {
   "cell_type": "code",
   "execution_count": null,
   "id": "76b326a9-4ba3-4007-9e7b-9e17a5fa1b5e",
   "metadata": {},
   "outputs": [],
   "source": [
    "y[:4]"
   ]
  },
  {
   "cell_type": "code",
   "execution_count": null,
   "id": "44e8fbe8-9f13-4c7f-ae72-f7ee708d549c",
   "metadata": {},
   "outputs": [],
   "source": [
    "y0"
   ]
  },
  {
   "cell_type": "code",
   "execution_count": null,
   "id": "4f066c2c-df3e-4603-be4e-f91eceefa00b",
   "metadata": {},
   "outputs": [],
   "source": [
    "contents"
   ]
  },
  {
   "cell_type": "code",
   "execution_count": null,
   "id": "78bf7c7f-0220-423b-8b74-2363b6cf2c27",
   "metadata": {},
   "outputs": [],
   "source": [
    "_bytes.decode(\"utf-8\")"
   ]
  },
  {
   "cell_type": "code",
   "execution_count": null,
   "id": "cd85117c-8118-4bce-84b3-65778fd9c6f1",
   "metadata": {},
   "outputs": [],
   "source": [
    "list((DATA_DIR / \"download\" / \"training_set\").glob(\"*.txt\"))"
   ]
  },
  {
   "cell_type": "code",
   "execution_count": null,
   "id": "8d6086e0-0cf3-449c-89ec-8b94b1e30add",
   "metadata": {},
   "outputs": [],
   "source": []
  }
 ],
 "metadata": {
  "kernelspec": {
   "display_name": "women_and_code",
   "language": "python",
   "name": "women_and_code"
  },
  "language_info": {
   "codemirror_mode": {
    "name": "ipython",
    "version": 3
   },
   "file_extension": ".py",
   "mimetype": "text/x-python",
   "name": "python",
   "nbconvert_exporter": "python",
   "pygments_lexer": "ipython3",
   "version": "3.10.14"
  }
 },
 "nbformat": 4,
 "nbformat_minor": 5
}

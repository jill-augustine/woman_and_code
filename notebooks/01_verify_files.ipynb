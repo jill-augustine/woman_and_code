{
 "cells": [
  {
   "cell_type": "code",
   "execution_count": null,
   "metadata": {},
   "outputs": [],
   "source": [
    "%load_ext autoreload\n",
    "%autoreload 2"
   ]
  },
  {
   "cell_type": "code",
   "execution_count": null,
   "metadata": {
    "id": "K8ZFL6VgobNw"
   },
   "outputs": [],
   "source": [
    "# from google.colab import drive\n",
    "import json\n",
    "from pathlib import Path\n",
    "import sys\n",
    "import pandas as pd\n",
    "import numpy as np\n",
    "import tarfile\n",
    "import subprocess as sp\n",
    "\n"
   ]
  },
  {
   "cell_type": "code",
   "execution_count": null,
   "metadata": {},
   "outputs": [],
   "source": [
    "\n",
    "import waac\n",
    "import waac.config as config"
   ]
  },
  {
   "cell_type": "code",
   "execution_count": null,
   "metadata": {
    "colab": {
     "base_uri": "https://localhost:8080/"
    },
    "id": "hkn-_YOhpOPy",
    "outputId": "f6d96f6c-8264-4210-c2f3-fab2705c02f5"
   },
   "outputs": [],
   "source": [
    "# drive.mount(\"/content/drive\")"
   ]
  },
  {
   "cell_type": "code",
   "execution_count": null,
   "metadata": {
    "colab": {
     "base_uri": "https://localhost:8080/"
    },
    "id": "HzPBOSLosrkf",
    "outputId": "0acf7d6e-8436-4755-bd17-75b4d2cce4c8"
   },
   "outputs": [],
   "source": [
    "import sys\n",
    "# ROOT_DIR = Path(\"/content/drive/MyDrive/W&&C\")\n",
    "ROOT_DIR = config.ROOT_DIR\n",
    "print(ROOT_DIR)\n",
    "DATA_DIR = config.DATA_DIR\n",
    "print(sys.path[-2:])\n",
    "if str(ROOT_DIR) not in sys.path:\n",
    "    sys.path.append(str(ROOT_DIR))"
   ]
  },
  {
   "cell_type": "code",
   "execution_count": null,
   "metadata": {
    "colab": {
     "base_uri": "https://localhost:8080/"
    },
    "id": "jdst5LF22AKe",
    "outputId": "0953f83e-0964-4b2c-f4b2-4c6a1e54246b"
   },
   "outputs": [],
   "source": [
    "DATA_DIR.mkdir(exist_ok=True, parents=True)\n",
    "with tarfile.open(DATA_DIR / \"nf_prize_dataset.tar.gz\", \"r:gz\") as t:\n",
    "  names = t.getnames()\n",
    "print(names)"
   ]
  },
  {
   "cell_type": "code",
   "execution_count": null,
   "metadata": {},
   "outputs": [],
   "source": [
    "text_files = [x for x in names if not (x.endswith(\".tar\") or x.endswith(\".pl\"))]\n",
    "with tarfile.open(DATA_DIR / \"nf_prize_dataset.tar.gz\", \"r:gz\") as t:\n",
    "  t.extractall(path=DATA_DIR, members = text_files)\n"
   ]
  },
  {
   "cell_type": "code",
   "execution_count": null,
   "metadata": {
    "colab": {
     "base_uri": "https://localhost:8080/"
    },
    "id": "g1NR2qKQiXL2",
    "outputId": "9c404418-c44d-4dda-94f3-26c8647d983a"
   },
   "outputs": [],
   "source": [
    "print((DATA_DIR / \"download/README\").read_text())"
   ]
  },
  {
   "cell_type": "code",
   "execution_count": null,
   "metadata": {
    "colab": {
     "base_uri": "https://localhost:8080/"
    },
    "id": "QHGvcVV6gXlL",
    "outputId": "9752d0a3-17b6-4e42-cbab-50fcb5bb6b46"
   },
   "outputs": [],
   "source": [
    "non_text_files = [x for x in names if (x.endswith(\".tar\") or x.endswith(\".pl\"))]\n",
    "with tarfile.open(DATA_DIR / \"nf_prize_dataset.tar.gz\", \"r:gz\") as t:\n",
    "  t.extractall(path=DATA_DIR, members = non_text_files)"
   ]
  },
  {
   "cell_type": "code",
   "execution_count": null,
   "metadata": {
    "colab": {
     "base_uri": "https://localhost:8080/"
    },
    "id": "Xkpxy4DMngya",
    "outputId": "704ea815-299b-4aaa-f6dc-c52f20ec84aa"
   },
   "outputs": [],
   "source": [
    "metadata = \"\"\"d2b86d3d9ba8b491d62a85c9cf6aea39        577547 movie_titles.txt\n",
    "ed843ae92adbc70db64edbf825024514      10782692 probe.txt\n",
    "88be8340ad7b3c31dfd7b6f87e7b9022      52452386 qualifying.txt\n",
    "0e13d39f97b93e2534104afc3408c68c           567 rmse.pl\n",
    "0098ee8997ffda361a59bc0dd1bdad8b    2081556480 training_set.tar\"\"\"\n",
    "print(metadata)\n",
    "\n",
    "metadata = metadata.split(\"\\n\")\n",
    "metadata = [line.split() for line in metadata]\n",
    "metadata = {z: {\"md5sum\": x, \"size\": int(y)} for x, y, z in metadata}\n",
    "\n",
    "print(json.dumps(metadata, indent=2))"
   ]
  },
  {
   "cell_type": "code",
   "execution_count": null,
   "metadata": {
    "colab": {
     "base_uri": "https://localhost:8080/"
    },
    "id": "4PzHOzqGl8rz",
    "outputId": "73b4725c-0665-4130-bfed-896828674a66"
   },
   "outputs": [],
   "source": [
    "# Compare the md5sum and size of the files in the download directory with the metadata from the README\n",
    "for f in DATA_DIR.glob(\"download/*\"):\n",
    "  resp = sp.run([\"md5sum\", str(f)], capture_output=True)\n",
    "  md5sum, file_name = resp.stdout.decode(\"utf8\").split()\n",
    "  file_name = Path(file_name).name\n",
    "  if file_name in [\"README\"]:\n",
    "    continue\n",
    "  print(file_name)\n",
    "  resp = sp.run([\"ls\", \"-l\", str(f)], capture_output=True)\n",
    "  _, _, _, _, file_size, *_ = resp.stdout.decode(\"utf-8\").split()\n",
    "  file_size = int(file_size)\n",
    "  assert metadata[file_name][\"md5sum\"] == md5sum\n",
    "  assert metadata[file_name][\"size\"] == file_size\n"
   ]
  },
  {
   "cell_type": "code",
   "execution_count": null,
   "metadata": {
    "id": "oOaGkNy80ly3"
   },
   "outputs": [],
   "source": []
  }
 ],
 "metadata": {
  "colab": {
   "provenance": []
  },
  "kernelspec": {
   "display_name": "Python 3 (ipykernel)",
   "language": "python",
   "name": "python3"
  },
  "language_info": {
   "codemirror_mode": {
    "name": "ipython",
    "version": 3
   },
   "file_extension": ".py",
   "mimetype": "text/x-python",
   "name": "python",
   "nbconvert_exporter": "python",
   "pygments_lexer": "ipython3",
   "version": "3.10.14"
  }
 },
 "nbformat": 4,
 "nbformat_minor": 4
}
